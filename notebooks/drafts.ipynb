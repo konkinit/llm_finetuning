{
 "cells": [
  {
   "cell_type": "code",
   "execution_count": null,
   "metadata": {},
   "outputs": [],
   "source": [
    "import os\n",
    "import torch\n",
    "from dotenv import load_dotenv\n",
    "os.chdir(\"../\")\n",
    "from src.schemas.finetuning import FinetuningData\n",
    "from src.configs import (\n",
    "    SFTTrainerConfig, ModelConfig, TokenizerConfig,\n",
    "    LoRAConfig, TrainingArgs, BnBConfig, DatasetConfig, Push2HubConfig\n",
    ")\n",
    "from src.tuning.trainer import FineTuner"
   ]
  },
  {
   "cell_type": "code",
   "execution_count": null,
   "metadata": {},
   "outputs": [],
   "source": [
    "data = FinetuningData(\n",
    "    llmodel_config=ModelConfig(pretrained_model_name_or_path=\"NousResearch/Llama-2-7b-chat-hf\", device_map=\"auto\"),\n",
    "    bnb_config=BnBConfig(),\n",
    "    dataset_config=DatasetConfig(name=\"mlabonne/guanaco-llama2-1k\"),\n",
    "    lora_config=LoRAConfig(),\n",
    "    sfttrainer_config=SFTTrainerConfig(),\n",
    "    tokenizer_config=TokenizerConfig(),\n",
    "    training_args=TrainingArgs(),\n",
    "    push2hub_config=Push2HubConfig(finetuned_model_name=\"Llama-2-7b-chat-hf_finetuned\", commit_message=\"Llama-2-7b-chat-hf finetuned\")\n",
    ")"
   ]
  },
  {
   "cell_type": "code",
   "execution_count": null,
   "metadata": {},
   "outputs": [],
   "source": [
    "finetuner = FineTuner(data)"
   ]
  },
  {
   "cell_type": "code",
   "execution_count": null,
   "metadata": {},
   "outputs": [],
   "source": [
    "finetuner._train()"
   ]
  },
  {
   "cell_type": "code",
   "execution_count": null,
   "metadata": {},
   "outputs": [],
   "source": [
    "finetuner._push_to_HF_hub()"
   ]
  },
  {
   "cell_type": "code",
   "execution_count": null,
   "metadata": {},
   "outputs": [],
   "source": []
  }
 ],
 "metadata": {
  "kernelspec": {
   "display_name": "base",
   "language": "python",
   "name": "python3"
  },
  "language_info": {
   "codemirror_mode": {
    "name": "ipython",
    "version": 3
   },
   "file_extension": ".py",
   "mimetype": "text/x-python",
   "name": "python",
   "nbconvert_exporter": "python",
   "pygments_lexer": "ipython3",
   "version": "3.11.6"
  }
 },
 "nbformat": 4,
 "nbformat_minor": 2
}
